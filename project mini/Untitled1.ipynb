{
 "cells": [
  {
   "cell_type": "code",
   "execution_count": 41,
   "metadata": {},
   "outputs": [],
   "source": [
    "\n",
    "import numpy as np\n",
    "import pandas as pd\n",
    "import matplotlib.pyplot as plt\n",
    "import seaborn as sns\n",
    "from matplotlib.pyplot import figure\n",
    "from sklearn.metrics import confusion_matrix\n",
    "from sklearn.svm import SVC\n",
    "from sklearn.neighbors import KNeighborsClassifier\n",
    "from sklearn.naive_bayes import GaussianNB\n",
    "from sklearn.tree import DecisionTreeClassifier\n",
    "from sklearn.ensemble import RandomForestClassifier\n",
    "import pickle\n",
    "import sklearn\n",
    "import scipy"
   ]
  },
  {
   "cell_type": "code",
   "execution_count": 42,
   "metadata": {},
   "outputs": [],
   "source": [
    "import warnings\n",
    "warnings.filterwarnings(\"ignore\")"
   ]
  },
  {
   "cell_type": "code",
   "execution_count": 43,
   "metadata": {},
   "outputs": [],
   "source": [
    "\n",
    "spotify_song_data= pd.read_csv(\"E:/project mini/song_data.csv\")\n",
    "spotify_song_info= pd.read_csv(\"E:/project mini/song_info.csv\")\n"
   ]
  },
  {
   "cell_type": "code",
   "execution_count": 44,
   "metadata": {},
   "outputs": [
    {
     "data": {
      "text/html": [
       "<div>\n",
       "<style scoped>\n",
       "    .dataframe tbody tr th:only-of-type {\n",
       "        vertical-align: middle;\n",
       "    }\n",
       "\n",
       "    .dataframe tbody tr th {\n",
       "        vertical-align: top;\n",
       "    }\n",
       "\n",
       "    .dataframe thead th {\n",
       "        text-align: right;\n",
       "    }\n",
       "</style>\n",
       "<table border=\"1\" class=\"dataframe\">\n",
       "  <thead>\n",
       "    <tr style=\"text-align: right;\">\n",
       "      <th></th>\n",
       "      <th>song_name</th>\n",
       "      <th>artist_name</th>\n",
       "      <th>album_names</th>\n",
       "      <th>playlist</th>\n",
       "    </tr>\n",
       "  </thead>\n",
       "  <tbody>\n",
       "    <tr>\n",
       "      <th>0</th>\n",
       "      <td>Boulevard of Broken Dreams</td>\n",
       "      <td>Green Day</td>\n",
       "      <td>Greatest Hits: God's Favorite Band</td>\n",
       "      <td>00s Rock Anthems</td>\n",
       "    </tr>\n",
       "    <tr>\n",
       "      <th>1</th>\n",
       "      <td>In The End</td>\n",
       "      <td>Linkin Park</td>\n",
       "      <td>Hybrid Theory</td>\n",
       "      <td>00s Rock Anthems</td>\n",
       "    </tr>\n",
       "    <tr>\n",
       "      <th>2</th>\n",
       "      <td>Seven Nation Army</td>\n",
       "      <td>The White Stripes</td>\n",
       "      <td>Elephant</td>\n",
       "      <td>00s Rock Anthems</td>\n",
       "    </tr>\n",
       "    <tr>\n",
       "      <th>3</th>\n",
       "      <td>By The Way</td>\n",
       "      <td>Red Hot Chili Peppers</td>\n",
       "      <td>By The Way (Deluxe Version)</td>\n",
       "      <td>00s Rock Anthems</td>\n",
       "    </tr>\n",
       "    <tr>\n",
       "      <th>4</th>\n",
       "      <td>How You Remind Me</td>\n",
       "      <td>Nickelback</td>\n",
       "      <td>Silver Side Up</td>\n",
       "      <td>00s Rock Anthems</td>\n",
       "    </tr>\n",
       "  </tbody>\n",
       "</table>\n",
       "</div>"
      ],
      "text/plain": [
       "                    song_name            artist_name  \\\n",
       "0  Boulevard of Broken Dreams              Green Day   \n",
       "1                  In The End            Linkin Park   \n",
       "2           Seven Nation Army      The White Stripes   \n",
       "3                  By The Way  Red Hot Chili Peppers   \n",
       "4           How You Remind Me             Nickelback   \n",
       "\n",
       "                          album_names          playlist  \n",
       "0  Greatest Hits: God's Favorite Band  00s Rock Anthems  \n",
       "1                       Hybrid Theory  00s Rock Anthems  \n",
       "2                            Elephant  00s Rock Anthems  \n",
       "3         By The Way (Deluxe Version)  00s Rock Anthems  \n",
       "4                      Silver Side Up  00s Rock Anthems  "
      ]
     },
     "execution_count": 44,
     "metadata": {},
     "output_type": "execute_result"
    }
   ],
   "source": [
    "spotify_song_info.head(5)"
   ]
  },
  {
   "cell_type": "code",
   "execution_count": 45,
   "metadata": {},
   "outputs": [
    {
     "data": {
      "text/html": [
       "<div>\n",
       "<style scoped>\n",
       "    .dataframe tbody tr th:only-of-type {\n",
       "        vertical-align: middle;\n",
       "    }\n",
       "\n",
       "    .dataframe tbody tr th {\n",
       "        vertical-align: top;\n",
       "    }\n",
       "\n",
       "    .dataframe thead th {\n",
       "        text-align: right;\n",
       "    }\n",
       "</style>\n",
       "<table border=\"1\" class=\"dataframe\">\n",
       "  <thead>\n",
       "    <tr style=\"text-align: right;\">\n",
       "      <th></th>\n",
       "      <th>song_name</th>\n",
       "      <th>song_popularity</th>\n",
       "      <th>song_duration_ms</th>\n",
       "      <th>acousticness</th>\n",
       "      <th>danceability</th>\n",
       "      <th>energy</th>\n",
       "      <th>instrumentalness</th>\n",
       "      <th>key</th>\n",
       "      <th>liveness</th>\n",
       "      <th>loudness</th>\n",
       "      <th>audio_mode</th>\n",
       "      <th>speechiness</th>\n",
       "      <th>tempo</th>\n",
       "      <th>time_signature</th>\n",
       "      <th>audio_valence</th>\n",
       "    </tr>\n",
       "  </thead>\n",
       "  <tbody>\n",
       "    <tr>\n",
       "      <th>0</th>\n",
       "      <td>Boulevard of Broken Dreams</td>\n",
       "      <td>73</td>\n",
       "      <td>262333</td>\n",
       "      <td>0.00552</td>\n",
       "      <td>0.496</td>\n",
       "      <td>0.682</td>\n",
       "      <td>0.000029</td>\n",
       "      <td>8</td>\n",
       "      <td>0.0589</td>\n",
       "      <td>-4.095</td>\n",
       "      <td>1</td>\n",
       "      <td>0.0294</td>\n",
       "      <td>167.060</td>\n",
       "      <td>4</td>\n",
       "      <td>0.474</td>\n",
       "    </tr>\n",
       "    <tr>\n",
       "      <th>1</th>\n",
       "      <td>In The End</td>\n",
       "      <td>66</td>\n",
       "      <td>216933</td>\n",
       "      <td>0.01030</td>\n",
       "      <td>0.542</td>\n",
       "      <td>0.853</td>\n",
       "      <td>0.000000</td>\n",
       "      <td>3</td>\n",
       "      <td>0.1080</td>\n",
       "      <td>-6.407</td>\n",
       "      <td>0</td>\n",
       "      <td>0.0498</td>\n",
       "      <td>105.256</td>\n",
       "      <td>4</td>\n",
       "      <td>0.370</td>\n",
       "    </tr>\n",
       "    <tr>\n",
       "      <th>2</th>\n",
       "      <td>Seven Nation Army</td>\n",
       "      <td>76</td>\n",
       "      <td>231733</td>\n",
       "      <td>0.00817</td>\n",
       "      <td>0.737</td>\n",
       "      <td>0.463</td>\n",
       "      <td>0.447000</td>\n",
       "      <td>0</td>\n",
       "      <td>0.2550</td>\n",
       "      <td>-7.828</td>\n",
       "      <td>1</td>\n",
       "      <td>0.0792</td>\n",
       "      <td>123.881</td>\n",
       "      <td>4</td>\n",
       "      <td>0.324</td>\n",
       "    </tr>\n",
       "  </tbody>\n",
       "</table>\n",
       "</div>"
      ],
      "text/plain": [
       "                    song_name  song_popularity  song_duration_ms  \\\n",
       "0  Boulevard of Broken Dreams               73            262333   \n",
       "1                  In The End               66            216933   \n",
       "2           Seven Nation Army               76            231733   \n",
       "\n",
       "   acousticness  danceability  energy  instrumentalness  key  liveness  \\\n",
       "0       0.00552         0.496   0.682          0.000029    8    0.0589   \n",
       "1       0.01030         0.542   0.853          0.000000    3    0.1080   \n",
       "2       0.00817         0.737   0.463          0.447000    0    0.2550   \n",
       "\n",
       "   loudness  audio_mode  speechiness    tempo  time_signature  audio_valence  \n",
       "0    -4.095           1       0.0294  167.060               4          0.474  \n",
       "1    -6.407           0       0.0498  105.256               4          0.370  \n",
       "2    -7.828           1       0.0792  123.881               4          0.324  "
      ]
     },
     "execution_count": 45,
     "metadata": {},
     "output_type": "execute_result"
    }
   ],
   "source": [
    "song_info=spotify_song_info.copy()\n",
    "song_data=spotify_song_data.copy()\n",
    "song_data.head(3)"
   ]
  },
  {
   "cell_type": "code",
   "execution_count": 46,
   "metadata": {},
   "outputs": [
    {
     "data": {
      "text/plain": [
       "(18835, 15)"
      ]
     },
     "execution_count": 46,
     "metadata": {},
     "output_type": "execute_result"
    }
   ],
   "source": [
    "song_data.shape"
   ]
  },
  {
   "cell_type": "code",
   "execution_count": 47,
   "metadata": {},
   "outputs": [],
   "source": [
    "song_data.song_duration_ms= song_data.song_duration_ms.astype(float)\n",
    "song_data.time_signature= song_data.time_signature.astype(float)\n",
    "song_data.audio_mode= song_data.audio_mode.astype(float)"
   ]
  },
  {
   "cell_type": "code",
   "execution_count": 48,
   "metadata": {},
   "outputs": [
    {
     "data": {
      "text/plain": [
       "0    13386\n",
       "1     5449\n",
       "Name: popularity, dtype: int64"
      ]
     },
     "execution_count": 48,
     "metadata": {},
     "output_type": "execute_result"
    }
   ],
   "source": [
    "song_data[\"popularity\"]= [ 1 if i>=66.5 else 0 for i in song_data.song_popularity ]\n",
    "song_data[\"popularity\"].value_counts()"
   ]
  },
  {
   "cell_type": "code",
   "execution_count": 49,
   "metadata": {},
   "outputs": [
    {
     "data": {
      "text/html": [
       "<div>\n",
       "<style scoped>\n",
       "    .dataframe tbody tr th:only-of-type {\n",
       "        vertical-align: middle;\n",
       "    }\n",
       "\n",
       "    .dataframe tbody tr th {\n",
       "        vertical-align: top;\n",
       "    }\n",
       "\n",
       "    .dataframe thead th {\n",
       "        text-align: right;\n",
       "    }\n",
       "</style>\n",
       "<table border=\"1\" class=\"dataframe\">\n",
       "  <thead>\n",
       "    <tr style=\"text-align: right;\">\n",
       "      <th></th>\n",
       "      <th>song_popularity</th>\n",
       "      <th>song_duration_ms</th>\n",
       "      <th>acousticness</th>\n",
       "      <th>danceability</th>\n",
       "      <th>energy</th>\n",
       "      <th>instrumentalness</th>\n",
       "      <th>key</th>\n",
       "      <th>liveness</th>\n",
       "      <th>loudness</th>\n",
       "      <th>audio_mode</th>\n",
       "      <th>speechiness</th>\n",
       "      <th>tempo</th>\n",
       "      <th>time_signature</th>\n",
       "      <th>audio_valence</th>\n",
       "      <th>popularity</th>\n",
       "    </tr>\n",
       "  </thead>\n",
       "  <tbody>\n",
       "    <tr>\n",
       "      <th>count</th>\n",
       "      <td>5449.000000</td>\n",
       "      <td>5449.000000</td>\n",
       "      <td>5449.000000</td>\n",
       "      <td>5449.000000</td>\n",
       "      <td>5449.000000</td>\n",
       "      <td>5449.000000</td>\n",
       "      <td>5449.00000</td>\n",
       "      <td>5449.000000</td>\n",
       "      <td>5449.000000</td>\n",
       "      <td>5449.000000</td>\n",
       "      <td>5449.000000</td>\n",
       "      <td>5449.000000</td>\n",
       "      <td>5449.000000</td>\n",
       "      <td>5449.000000</td>\n",
       "      <td>5449.0</td>\n",
       "    </tr>\n",
       "    <tr>\n",
       "      <th>mean</th>\n",
       "      <td>76.992292</td>\n",
       "      <td>218539.555515</td>\n",
       "      <td>0.210354</td>\n",
       "      <td>0.659758</td>\n",
       "      <td>0.658601</td>\n",
       "      <td>0.022390</td>\n",
       "      <td>5.11782</td>\n",
       "      <td>0.174400</td>\n",
       "      <td>-6.624852</td>\n",
       "      <td>0.618829</td>\n",
       "      <td>0.106247</td>\n",
       "      <td>120.753878</td>\n",
       "      <td>3.974307</td>\n",
       "      <td>0.520436</td>\n",
       "      <td>1.0</td>\n",
       "    </tr>\n",
       "    <tr>\n",
       "      <th>std</th>\n",
       "      <td>8.068717</td>\n",
       "      <td>48620.048311</td>\n",
       "      <td>0.246079</td>\n",
       "      <td>0.147652</td>\n",
       "      <td>0.187495</td>\n",
       "      <td>0.115572</td>\n",
       "      <td>3.65752</td>\n",
       "      <td>0.137557</td>\n",
       "      <td>3.139341</td>\n",
       "      <td>0.485719</td>\n",
       "      <td>0.102181</td>\n",
       "      <td>27.737971</td>\n",
       "      <td>0.255771</td>\n",
       "      <td>0.230911</td>\n",
       "      <td>0.0</td>\n",
       "    </tr>\n",
       "    <tr>\n",
       "      <th>min</th>\n",
       "      <td>67.000000</td>\n",
       "      <td>67000.000000</td>\n",
       "      <td>0.000009</td>\n",
       "      <td>0.072200</td>\n",
       "      <td>0.002890</td>\n",
       "      <td>0.000000</td>\n",
       "      <td>0.00000</td>\n",
       "      <td>0.021500</td>\n",
       "      <td>-34.255000</td>\n",
       "      <td>0.000000</td>\n",
       "      <td>0.022400</td>\n",
       "      <td>57.178000</td>\n",
       "      <td>1.000000</td>\n",
       "      <td>0.035200</td>\n",
       "      <td>1.0</td>\n",
       "    </tr>\n",
       "    <tr>\n",
       "      <th>25%</th>\n",
       "      <td>71.000000</td>\n",
       "      <td>190185.000000</td>\n",
       "      <td>0.026300</td>\n",
       "      <td>0.562000</td>\n",
       "      <td>0.541000</td>\n",
       "      <td>0.000000</td>\n",
       "      <td>1.00000</td>\n",
       "      <td>0.092000</td>\n",
       "      <td>-7.906000</td>\n",
       "      <td>0.000000</td>\n",
       "      <td>0.039100</td>\n",
       "      <td>98.883000</td>\n",
       "      <td>4.000000</td>\n",
       "      <td>0.336000</td>\n",
       "      <td>1.0</td>\n",
       "    </tr>\n",
       "    <tr>\n",
       "      <th>50%</th>\n",
       "      <td>75.000000</td>\n",
       "      <td>212429.000000</td>\n",
       "      <td>0.106000</td>\n",
       "      <td>0.668000</td>\n",
       "      <td>0.680000</td>\n",
       "      <td>0.000000</td>\n",
       "      <td>5.00000</td>\n",
       "      <td>0.121000</td>\n",
       "      <td>-5.985000</td>\n",
       "      <td>1.000000</td>\n",
       "      <td>0.059100</td>\n",
       "      <td>119.886000</td>\n",
       "      <td>4.000000</td>\n",
       "      <td>0.511000</td>\n",
       "      <td>1.0</td>\n",
       "    </tr>\n",
       "    <tr>\n",
       "      <th>75%</th>\n",
       "      <td>82.000000</td>\n",
       "      <td>240533.000000</td>\n",
       "      <td>0.300000</td>\n",
       "      <td>0.765000</td>\n",
       "      <td>0.802000</td>\n",
       "      <td>0.000118</td>\n",
       "      <td>8.00000</td>\n",
       "      <td>0.203000</td>\n",
       "      <td>-4.626000</td>\n",
       "      <td>1.000000</td>\n",
       "      <td>0.131000</td>\n",
       "      <td>139.910000</td>\n",
       "      <td>4.000000</td>\n",
       "      <td>0.701000</td>\n",
       "      <td>1.0</td>\n",
       "    </tr>\n",
       "    <tr>\n",
       "      <th>max</th>\n",
       "      <td>100.000000</td>\n",
       "      <td>547733.000000</td>\n",
       "      <td>0.996000</td>\n",
       "      <td>0.978000</td>\n",
       "      <td>0.997000</td>\n",
       "      <td>0.968000</td>\n",
       "      <td>11.00000</td>\n",
       "      <td>0.978000</td>\n",
       "      <td>-0.739000</td>\n",
       "      <td>1.000000</td>\n",
       "      <td>0.733000</td>\n",
       "      <td>212.058000</td>\n",
       "      <td>5.000000</td>\n",
       "      <td>0.980000</td>\n",
       "      <td>1.0</td>\n",
       "    </tr>\n",
       "  </tbody>\n",
       "</table>\n",
       "</div>"
      ],
      "text/plain": [
       "       song_popularity  song_duration_ms  acousticness  danceability  \\\n",
       "count      5449.000000       5449.000000   5449.000000   5449.000000   \n",
       "mean         76.992292     218539.555515      0.210354      0.659758   \n",
       "std           8.068717      48620.048311      0.246079      0.147652   \n",
       "min          67.000000      67000.000000      0.000009      0.072200   \n",
       "25%          71.000000     190185.000000      0.026300      0.562000   \n",
       "50%          75.000000     212429.000000      0.106000      0.668000   \n",
       "75%          82.000000     240533.000000      0.300000      0.765000   \n",
       "max         100.000000     547733.000000      0.996000      0.978000   \n",
       "\n",
       "            energy  instrumentalness         key     liveness     loudness  \\\n",
       "count  5449.000000       5449.000000  5449.00000  5449.000000  5449.000000   \n",
       "mean      0.658601          0.022390     5.11782     0.174400    -6.624852   \n",
       "std       0.187495          0.115572     3.65752     0.137557     3.139341   \n",
       "min       0.002890          0.000000     0.00000     0.021500   -34.255000   \n",
       "25%       0.541000          0.000000     1.00000     0.092000    -7.906000   \n",
       "50%       0.680000          0.000000     5.00000     0.121000    -5.985000   \n",
       "75%       0.802000          0.000118     8.00000     0.203000    -4.626000   \n",
       "max       0.997000          0.968000    11.00000     0.978000    -0.739000   \n",
       "\n",
       "        audio_mode  speechiness        tempo  time_signature  audio_valence  \\\n",
       "count  5449.000000  5449.000000  5449.000000     5449.000000    5449.000000   \n",
       "mean      0.618829     0.106247   120.753878        3.974307       0.520436   \n",
       "std       0.485719     0.102181    27.737971        0.255771       0.230911   \n",
       "min       0.000000     0.022400    57.178000        1.000000       0.035200   \n",
       "25%       0.000000     0.039100    98.883000        4.000000       0.336000   \n",
       "50%       1.000000     0.059100   119.886000        4.000000       0.511000   \n",
       "75%       1.000000     0.131000   139.910000        4.000000       0.701000   \n",
       "max       1.000000     0.733000   212.058000        5.000000       0.980000   \n",
       "\n",
       "       popularity  \n",
       "count      5449.0  \n",
       "mean          1.0  \n",
       "std           0.0  \n",
       "min           1.0  \n",
       "25%           1.0  \n",
       "50%           1.0  \n",
       "75%           1.0  \n",
       "max           1.0  "
      ]
     },
     "execution_count": 49,
     "metadata": {},
     "output_type": "execute_result"
    }
   ],
   "source": [
    "a=song_data[song_data[\"popularity\"]==1]\n",
    "a.describe()\n"
   ]
  },
  {
   "cell_type": "code",
   "execution_count": null,
   "metadata": {},
   "outputs": [],
   "source": []
  },
  {
   "cell_type": "code",
   "execution_count": 50,
   "metadata": {},
   "outputs": [
    {
     "data": {
      "text/plain": [
       "Index([], dtype='object')"
      ]
     },
     "execution_count": 50,
     "metadata": {},
     "output_type": "execute_result"
    }
   ],
   "source": [
    "song_data.drop([\"song_popularity\",\"song_name\"],axis=1,inplace=True)\n",
    "song_data.columns[song_data.isnull().any()]"
   ]
  },
  {
   "cell_type": "code",
   "execution_count": 69,
   "metadata": {},
   "outputs": [],
   "source": [
    "song_data['song_duration_ms'] = song_data['song_duration_ms'].fillna(np.mean(song_data['song_duration_ms']))\n",
    "song_data['acousticness'] = song_data['acousticness'].fillna(np.mean(song_data['acousticness']))\n",
    "song_data['danceability'] = song_data['danceability'].fillna(np.mean(song_data['danceability']))\n",
    "song_data['energy'] = song_data['energy'].fillna(np.mean(song_data['energy']))\n",
    "song_data['instrumentalness'] = song_data['instrumentalness'].fillna(np.mean(song_data['instrumentalness']))\n",
    "song_data['liveness'] = song_data['liveness'].fillna(np.mean(song_data['liveness']))\n",
    "song_data['loudness'] = song_data['loudness'].fillna(np.mean(song_data['loudness']))\n",
    "song_data['speechiness'] = song_data['speechiness'].fillna(np.mean(song_data['speechiness']))\n",
    "song_data['tempo'] = song_data['tempo'].fillna(np.mean(song_data['tempo']))\n",
    "song_data['audio_valence'] = song_data['audio_valence'].fillna(np.mean(song_data['audio_valence']))\n",
    "song_data['popularity'] = song_data['popularity'].fillna(np.mean(song_data['popularity']))\n"
   ]
  },
  {
   "cell_type": "code",
   "execution_count": 70,
   "metadata": {},
   "outputs": [
    {
     "data": {
      "text/plain": [
       "Index([], dtype='object')"
      ]
     },
     "execution_count": 70,
     "metadata": {},
     "output_type": "execute_result"
    }
   ],
   "source": [
    "song_data.columns[song_data.isnull().any()]"
   ]
  },
  {
   "cell_type": "code",
   "execution_count": 72,
   "metadata": {},
   "outputs": [],
   "source": [
    "\n",
    "X = song_data.iloc[:, :-1]\n",
    "y = song_data.iloc[:, -1]\n"
   ]
  },
  {
   "cell_type": "code",
   "execution_count": 73,
   "metadata": {},
   "outputs": [
    {
     "data": {
      "text/html": [
       "<div>\n",
       "<style scoped>\n",
       "    .dataframe tbody tr th:only-of-type {\n",
       "        vertical-align: middle;\n",
       "    }\n",
       "\n",
       "    .dataframe tbody tr th {\n",
       "        vertical-align: top;\n",
       "    }\n",
       "\n",
       "    .dataframe thead th {\n",
       "        text-align: right;\n",
       "    }\n",
       "</style>\n",
       "<table border=\"1\" class=\"dataframe\">\n",
       "  <thead>\n",
       "    <tr style=\"text-align: right;\">\n",
       "      <th></th>\n",
       "      <th>song_duration_ms</th>\n",
       "      <th>acousticness</th>\n",
       "      <th>danceability</th>\n",
       "      <th>energy</th>\n",
       "      <th>instrumentalness</th>\n",
       "      <th>key</th>\n",
       "      <th>liveness</th>\n",
       "      <th>loudness</th>\n",
       "      <th>audio_mode</th>\n",
       "      <th>speechiness</th>\n",
       "      <th>tempo</th>\n",
       "      <th>time_signature</th>\n",
       "      <th>audio_valence</th>\n",
       "    </tr>\n",
       "  </thead>\n",
       "  <tbody>\n",
       "    <tr>\n",
       "      <th>0</th>\n",
       "      <td>262333.0</td>\n",
       "      <td>0.005520</td>\n",
       "      <td>0.496</td>\n",
       "      <td>0.682</td>\n",
       "      <td>0.000029</td>\n",
       "      <td>8</td>\n",
       "      <td>0.0589</td>\n",
       "      <td>-4.095</td>\n",
       "      <td>1.0</td>\n",
       "      <td>0.0294</td>\n",
       "      <td>167.060</td>\n",
       "      <td>4.0</td>\n",
       "      <td>0.474</td>\n",
       "    </tr>\n",
       "    <tr>\n",
       "      <th>1</th>\n",
       "      <td>216933.0</td>\n",
       "      <td>0.010300</td>\n",
       "      <td>0.542</td>\n",
       "      <td>0.853</td>\n",
       "      <td>0.000000</td>\n",
       "      <td>3</td>\n",
       "      <td>0.1080</td>\n",
       "      <td>-6.407</td>\n",
       "      <td>0.0</td>\n",
       "      <td>0.0498</td>\n",
       "      <td>105.256</td>\n",
       "      <td>4.0</td>\n",
       "      <td>0.370</td>\n",
       "    </tr>\n",
       "    <tr>\n",
       "      <th>2</th>\n",
       "      <td>231733.0</td>\n",
       "      <td>0.008170</td>\n",
       "      <td>0.737</td>\n",
       "      <td>0.463</td>\n",
       "      <td>0.447000</td>\n",
       "      <td>0</td>\n",
       "      <td>0.2550</td>\n",
       "      <td>-7.828</td>\n",
       "      <td>1.0</td>\n",
       "      <td>0.0792</td>\n",
       "      <td>123.881</td>\n",
       "      <td>4.0</td>\n",
       "      <td>0.324</td>\n",
       "    </tr>\n",
       "    <tr>\n",
       "      <th>3</th>\n",
       "      <td>216933.0</td>\n",
       "      <td>0.026400</td>\n",
       "      <td>0.451</td>\n",
       "      <td>0.970</td>\n",
       "      <td>0.003550</td>\n",
       "      <td>0</td>\n",
       "      <td>0.1020</td>\n",
       "      <td>-4.938</td>\n",
       "      <td>1.0</td>\n",
       "      <td>0.1070</td>\n",
       "      <td>122.444</td>\n",
       "      <td>4.0</td>\n",
       "      <td>0.198</td>\n",
       "    </tr>\n",
       "    <tr>\n",
       "      <th>4</th>\n",
       "      <td>223826.0</td>\n",
       "      <td>0.000954</td>\n",
       "      <td>0.447</td>\n",
       "      <td>0.766</td>\n",
       "      <td>0.000000</td>\n",
       "      <td>10</td>\n",
       "      <td>0.1130</td>\n",
       "      <td>-5.065</td>\n",
       "      <td>1.0</td>\n",
       "      <td>0.0313</td>\n",
       "      <td>172.011</td>\n",
       "      <td>4.0</td>\n",
       "      <td>0.574</td>\n",
       "    </tr>\n",
       "  </tbody>\n",
       "</table>\n",
       "</div>"
      ],
      "text/plain": [
       "   song_duration_ms  acousticness  danceability  energy  instrumentalness  \\\n",
       "0          262333.0      0.005520         0.496   0.682          0.000029   \n",
       "1          216933.0      0.010300         0.542   0.853          0.000000   \n",
       "2          231733.0      0.008170         0.737   0.463          0.447000   \n",
       "3          216933.0      0.026400         0.451   0.970          0.003550   \n",
       "4          223826.0      0.000954         0.447   0.766          0.000000   \n",
       "\n",
       "   key  liveness  loudness  audio_mode  speechiness    tempo  time_signature  \\\n",
       "0    8    0.0589    -4.095         1.0       0.0294  167.060             4.0   \n",
       "1    3    0.1080    -6.407         0.0       0.0498  105.256             4.0   \n",
       "2    0    0.2550    -7.828         1.0       0.0792  123.881             4.0   \n",
       "3    0    0.1020    -4.938         1.0       0.1070  122.444             4.0   \n",
       "4   10    0.1130    -5.065         1.0       0.0313  172.011             4.0   \n",
       "\n",
       "   audio_valence  \n",
       "0          0.474  \n",
       "1          0.370  \n",
       "2          0.324  \n",
       "3          0.198  \n",
       "4          0.574  "
      ]
     },
     "execution_count": 73,
     "metadata": {},
     "output_type": "execute_result"
    }
   ],
   "source": [
    "X.head()"
   ]
  },
  {
   "cell_type": "code",
   "execution_count": 74,
   "metadata": {},
   "outputs": [
    {
     "data": {
      "text/plain": [
       "0    1\n",
       "1    0\n",
       "2    1\n",
       "3    1\n",
       "4    0\n",
       "Name: popularity, dtype: int64"
      ]
     },
     "execution_count": 74,
     "metadata": {},
     "output_type": "execute_result"
    }
   ],
   "source": [
    "y.head()"
   ]
  },
  {
   "cell_type": "code",
   "execution_count": 75,
   "metadata": {},
   "outputs": [],
   "source": [
    "from sklearn.model_selection import train_test_split\n",
    "X_train, X_test, y_train, y_test = train_test_split(X, y, test_size = 0.2, random_state = 0)"
   ]
  },
  {
   "cell_type": "code",
   "execution_count": 76,
   "metadata": {},
   "outputs": [],
   "source": [
    "def svm_classifier(X_train, X_test, y_train, y_test):\n",
    "    \n",
    "    classifier_svm = SVC(kernel = 'rbf', random_state = 0)\n",
    "    classifier_svm.fit(X_train, y_train)\n",
    "\n",
    "    y_pred = classifier_svm.predict(X_test)\n",
    "\n",
    "    cm = confusion_matrix(y_test, y_pred)\n",
    "\n",
    "    return print(f\"Train score : {classifier_svm.score(X_train, y_train)}\\nTest score : {classifier_svm.score(X_test, y_test)}\")"
   ]
  },
  {
   "cell_type": "code",
   "execution_count": 77,
   "metadata": {},
   "outputs": [],
   "source": [
    "def knn_classifier(X_train, X_test, y_train, y_test):\n",
    "    \n",
    "    classifier_knn = KNeighborsClassifier(metric = 'minkowski', p = 2)\n",
    "    classifier_knn.fit(X_train, y_train)\n",
    "\n",
    "    y_pred = classifier_knn.predict(X_test)\n",
    "\n",
    "    cm = confusion_matrix(y_test, y_pred)\n",
    "\n",
    "    return print(f\"Train score : {classifier_knn.score(X_train, y_train)}\\nTest score : {classifier_knn.score(X_test, y_test)}\")\n"
   ]
  },
  {
   "cell_type": "code",
   "execution_count": 78,
   "metadata": {},
   "outputs": [],
   "source": [
    "\n",
    "def naive_classifier(X_train, X_test, y_train, y_test):\n",
    "    \n",
    "    classifier_naive = GaussianNB()\n",
    "    classifier_naive.fit(X_train, y_train)\n",
    "\n",
    "    y_pred = classifier_naive.predict(X_test)\n",
    "\n",
    "    cm = confusion_matrix(y_test, y_pred)\n",
    "\n",
    "    return print(f\"Train score : {classifier_naive.score(X_train, y_train)}\\nTest score : {classifier_naive.score(X_test, y_test)}\")"
   ]
  },
  {
   "cell_type": "code",
   "execution_count": 79,
   "metadata": {},
   "outputs": [],
   "source": [
    "def tree_classifier(X_train, X_test, y_train, y_test):\n",
    "    \n",
    "    classifier_tree = DecisionTreeClassifier(criterion = 'entropy', random_state = 0)\n",
    "    classifier_tree.fit(X_train, y_train)\n",
    "\n",
    "    y_pred = classifier_tree.predict(X_test)\n",
    "\n",
    "    cm = confusion_matrix(y_test, y_pred)\n",
    "\n",
    "    return print(f\"Train score : {classifier_tree.score(X_train, y_train)}\\nTest score : {classifier_tree.score(X_test, y_test)}\")"
   ]
  },
  {
   "cell_type": "code",
   "execution_count": 80,
   "metadata": {},
   "outputs": [],
   "source": [
    "def forest_classifier(X_train, X_test, y_train, y_test):\n",
    "    classifier_forest = RandomForestClassifier(criterion = 'entropy', random_state = 0)\n",
    "    classifier_forest.fit(X_train, y_train)\n",
    "\n",
    "    y_pred = classifier_forest.predict(X_test)\n",
    "\n",
    "    cm = confusion_matrix(y_test, y_pred)\n",
    "\n",
    "    return print(f\"Train score : {classifier_forest.score(X_train, y_train)}\\nTest score : {classifier_forest.score(X_test, y_test)}\")"
   ]
  },
  {
   "cell_type": "code",
   "execution_count": 81,
   "metadata": {},
   "outputs": [],
   "source": [
    "\n",
    "def print_score(X_train, X_test, y_train, y_test):\n",
    "    print(\"SVM:\\n\")\n",
    "    svm_classifier(X_train, X_test, y_train, y_test)\n",
    "\n",
    "    print(\"-\"*100)\n",
    "    print()\n",
    "\n",
    "    print(\"KNN:\\n\")\n",
    "    knn_classifier(X_train, X_test, y_train, y_test)\n",
    "\n",
    "    print(\"-\"*100)\n",
    "    print()\n",
    "\n",
    "    print(\"Naive:\\n\")\n",
    "    naive_classifier(X_train, X_test, y_train, y_test)\n",
    "\n",
    "    print(\"-\"*100)\n",
    "    print()\n",
    "\n",
    "    print(\"Decision Tree:\\n\")\n",
    "    tree_classifier(X_train, X_test, y_train, y_test)\n",
    "\n",
    "    print(\"-\"*100)\n",
    "    print()\n",
    "\n",
    "    print(\"Random Forest:\\n\")\n",
    "    forest_classifier(X_train, X_test, y_train, y_test)"
   ]
  },
  {
   "cell_type": "code",
   "execution_count": 82,
   "metadata": {},
   "outputs": [
    {
     "name": "stdout",
     "output_type": "stream",
     "text": [
      "SVM:\n",
      "\n",
      "Train score : 0.7132333421821078\n",
      "Test score : 0.7005574727900186\n",
      "----------------------------------------------------------------------------------------------------\n",
      "\n",
      "KNN:\n",
      "\n",
      "Train score : 0.8206132200690205\n",
      "Test score : 0.7215290682240509\n",
      "----------------------------------------------------------------------------------------------------\n",
      "\n",
      "Naive:\n",
      "\n",
      "Train score : 0.7132333421821078\n",
      "Test score : 0.7005574727900186\n",
      "----------------------------------------------------------------------------------------------------\n",
      "\n",
      "Decision Tree:\n",
      "\n",
      "Train score : 0.9955534908415185\n",
      "Test score : 0.8112556410937085\n",
      "----------------------------------------------------------------------------------------------------\n",
      "\n",
      "Random Forest:\n",
      "\n",
      "Train score : 0.9955534908415185\n",
      "Test score : 0.880541544996018\n"
     ]
    }
   ],
   "source": [
    "print_score(X_train, X_test, y_train, y_test)"
   ]
  },
  {
   "cell_type": "code",
   "execution_count": 83,
   "metadata": {},
   "outputs": [
    {
     "data": {
      "text/plain": [
       "array([[2567,   72],\n",
       "       [ 389,  739]], dtype=int64)"
      ]
     },
     "execution_count": 83,
     "metadata": {},
     "output_type": "execute_result"
    }
   ],
   "source": [
    "classifier_forest = RandomForestClassifier(criterion = 'entropy')\n",
    "classifier_forest.fit(X_train, y_train)\n",
    "y_pred = classifier_forest.predict(X_test)\n",
    "\n",
    "cm = confusion_matrix(y_test, y_pred)\n",
    "cm"
   ]
  },
  {
   "cell_type": "code",
   "execution_count": 84,
   "metadata": {},
   "outputs": [
    {
     "data": {
      "text/html": [
       "<div>\n",
       "<style scoped>\n",
       "    .dataframe tbody tr th:only-of-type {\n",
       "        vertical-align: middle;\n",
       "    }\n",
       "\n",
       "    .dataframe tbody tr th {\n",
       "        vertical-align: top;\n",
       "    }\n",
       "\n",
       "    .dataframe thead th {\n",
       "        text-align: right;\n",
       "    }\n",
       "</style>\n",
       "<table border=\"1\" class=\"dataframe\">\n",
       "  <thead>\n",
       "    <tr style=\"text-align: right;\">\n",
       "      <th>Predicted</th>\n",
       "      <th>0</th>\n",
       "      <th>1</th>\n",
       "      <th>All</th>\n",
       "    </tr>\n",
       "    <tr>\n",
       "      <th>True</th>\n",
       "      <th></th>\n",
       "      <th></th>\n",
       "      <th></th>\n",
       "    </tr>\n",
       "  </thead>\n",
       "  <tbody>\n",
       "    <tr>\n",
       "      <th>0</th>\n",
       "      <td>2567</td>\n",
       "      <td>72</td>\n",
       "      <td>2639</td>\n",
       "    </tr>\n",
       "    <tr>\n",
       "      <th>1</th>\n",
       "      <td>389</td>\n",
       "      <td>739</td>\n",
       "      <td>1128</td>\n",
       "    </tr>\n",
       "    <tr>\n",
       "      <th>All</th>\n",
       "      <td>2956</td>\n",
       "      <td>811</td>\n",
       "      <td>3767</td>\n",
       "    </tr>\n",
       "  </tbody>\n",
       "</table>\n",
       "</div>"
      ],
      "text/plain": [
       "Predicted     0    1   All\n",
       "True                      \n",
       "0          2567   72  2639\n",
       "1           389  739  1128\n",
       "All        2956  811  3767"
      ]
     },
     "execution_count": 84,
     "metadata": {},
     "output_type": "execute_result"
    }
   ],
   "source": [
    "\n",
    "pd.crosstab(y_test, y_pred, rownames=['True'], colnames=['Predicted'], margins=True)"
   ]
  },
  {
   "cell_type": "code",
   "execution_count": 86,
   "metadata": {},
   "outputs": [
    {
     "data": {
      "text/plain": [
       "0    13386\n",
       "1     5449\n",
       "Name: popularity, dtype: int64"
      ]
     },
     "execution_count": 86,
     "metadata": {},
     "output_type": "execute_result"
    }
   ],
   "source": [
    "song_data['popularity'].value_counts()"
   ]
  },
  {
   "cell_type": "code",
   "execution_count": 87,
   "metadata": {},
   "outputs": [],
   "source": [
    "\n",
    "from sklearn.metrics import roc_auc_score, roc_curve, classification_report"
   ]
  },
  {
   "cell_type": "code",
   "execution_count": 88,
   "metadata": {},
   "outputs": [
    {
     "name": "stdout",
     "output_type": "stream",
     "text": [
      "              precision    recall  f1-score   support\n",
      "\n",
      "           0       0.87      0.97      0.92      2639\n",
      "           1       0.91      0.66      0.76      1128\n",
      "\n",
      "    accuracy                           0.88      3767\n",
      "   macro avg       0.89      0.81      0.84      3767\n",
      "weighted avg       0.88      0.88      0.87      3767\n",
      "\n"
     ]
    }
   ],
   "source": [
    "print(classification_report(y_test, y_pred))"
   ]
  },
  {
   "cell_type": "code",
   "execution_count": 89,
   "metadata": {},
   "outputs": [
    {
     "data": {
      "text/plain": [
       "array([0.08      , 1.        , 0.365     , ..., 1.        , 0.295     ,\n",
       "       0.17666667])"
      ]
     },
     "execution_count": 89,
     "metadata": {},
     "output_type": "execute_result"
    }
   ],
   "source": [
    "y_pred_prob = classifier_forest.predict_proba(X_test)[:,1]\n",
    "y_pred_prob"
   ]
  },
  {
   "cell_type": "code",
   "execution_count": 90,
   "metadata": {},
   "outputs": [
    {
     "name": "stdout",
     "output_type": "stream",
     "text": [
      "FPR:\n",
      "\n",
      " [0.00000000e+00 0.00000000e+00 0.00000000e+00 3.78931413e-04\n",
      " 3.78931413e-04 3.78931413e-04 3.78931413e-04 3.78931413e-04\n",
      " 3.78931413e-04 1.51572565e-03 2.27358848e-03 2.27358848e-03\n",
      " 2.27358848e-03 2.27358848e-03 2.27358848e-03 2.27358848e-03\n",
      " 2.27358848e-03 2.27358848e-03 2.27358848e-03 2.27358848e-03\n",
      " 3.03145131e-03 3.03145131e-03 3.03145131e-03 3.03145131e-03\n",
      " 3.03145131e-03 3.41038272e-03 3.78931413e-03 4.16824555e-03\n",
      " 4.16824555e-03 4.16824555e-03 4.16824555e-03 4.92610837e-03\n",
      " 5.30503979e-03 5.30503979e-03 6.06290261e-03 6.06290261e-03\n",
      " 6.44183403e-03 6.44183403e-03 6.82076544e-03 6.82076544e-03\n",
      " 6.82076544e-03 6.82076544e-03 7.19969685e-03 7.19969685e-03\n",
      " 7.19969685e-03 9.09435392e-03 9.47328534e-03 9.85221675e-03\n",
      " 9.85221675e-03 9.85221675e-03 1.02311482e-02 1.02311482e-02\n",
      " 1.02311482e-02 1.02311482e-02 1.09890110e-02 1.17468738e-02\n",
      " 1.17468738e-02 1.17468738e-02 1.21258052e-02 1.28836681e-02\n",
      " 1.36415309e-02 1.40204623e-02 1.40204623e-02 1.43993937e-02\n",
      " 1.43993937e-02 1.55361879e-02 1.59151194e-02 1.59151194e-02\n",
      " 1.62940508e-02 1.62940508e-02 1.70519136e-02 1.74308450e-02\n",
      " 1.78097764e-02 1.81887078e-02 1.85676393e-02 1.93255021e-02\n",
      " 2.00833649e-02 2.19780220e-02 2.19780220e-02 2.23569534e-02\n",
      " 2.38726790e-02 2.46305419e-02 2.46305419e-02 2.53884047e-02\n",
      " 2.61462675e-02 2.61462675e-02 2.69041304e-02 2.69041304e-02\n",
      " 2.72830618e-02 2.84198560e-02 2.87987874e-02 2.91777188e-02\n",
      " 2.99355817e-02 3.03145131e-02 3.06934445e-02 3.06934445e-02\n",
      " 3.29670330e-02 3.41038272e-02 3.41038272e-02 3.48616900e-02\n",
      " 3.48616900e-02 3.59984843e-02 3.63774157e-02 3.63774157e-02\n",
      " 3.97877984e-02 3.97877984e-02 4.05456612e-02 4.05456612e-02\n",
      " 4.09245926e-02 4.28192497e-02 4.35771125e-02 4.39560440e-02\n",
      " 4.43349754e-02 4.43349754e-02 4.47139068e-02 4.47139068e-02\n",
      " 4.85032209e-02 4.92610837e-02 5.15346722e-02 5.26714665e-02\n",
      " 5.30503979e-02 5.41871921e-02 5.72186434e-02 5.75975748e-02\n",
      " 5.79765063e-02 5.79765063e-02 5.83554377e-02 6.21447518e-02\n",
      " 6.25236832e-02 6.32815460e-02 6.36604775e-02 6.47972717e-02\n",
      " 6.93444487e-02 6.97233801e-02 6.97233801e-02 6.97233801e-02\n",
      " 7.27548314e-02 7.27548314e-02 7.35126942e-02 7.42705570e-02\n",
      " 7.54073513e-02 7.61652141e-02 7.69230769e-02 7.69230769e-02\n",
      " 8.45017052e-02 8.48806366e-02 8.52595680e-02 8.75331565e-02\n",
      " 9.17014020e-02 9.20803335e-02 9.28381963e-02 9.28381963e-02\n",
      " 9.85221675e-02 9.85221675e-02 9.89010989e-02 9.96589617e-02\n",
      " 1.00037893e-01 1.00037893e-01 1.01553619e-01 1.02311482e-01\n",
      " 1.03069344e-01 1.12542630e-01 1.13300493e-01 1.13679424e-01\n",
      " 1.14058355e-01 1.15574081e-01 1.16331944e-01 1.25805229e-01\n",
      " 1.26563092e-01 1.27320955e-01 1.27699886e-01 1.28457749e-01\n",
      " 1.28457749e-01 1.29973475e-01 1.29973475e-01 1.30352406e-01\n",
      " 1.30352406e-01 1.39825692e-01 1.40962486e-01 1.41720349e-01\n",
      " 1.42478211e-01 1.43993937e-01 1.45888594e-01 1.56498674e-01\n",
      " 1.58014399e-01 1.58014399e-01 1.59151194e-01 1.59530125e-01\n",
      " 1.60666919e-01 1.60666919e-01 1.61045851e-01 1.61045851e-01\n",
      " 1.61803714e-01 1.62561576e-01 1.75445244e-01 1.76203107e-01\n",
      " 1.76582039e-01 1.78476696e-01 1.78476696e-01 1.78855627e-01\n",
      " 1.79992421e-01 1.80371353e-01 1.94391815e-01 1.94391815e-01\n",
      " 1.95149678e-01 1.95907541e-01 1.96286472e-01 1.96286472e-01\n",
      " 1.97802198e-01 2.09170140e-01 2.09170140e-01 2.09928003e-01\n",
      " 2.11064797e-01 2.11443729e-01 2.11822660e-01 2.14475180e-01\n",
      " 2.16369837e-01 2.30769231e-01 2.31527094e-01 2.33042819e-01\n",
      " 2.33421751e-01 2.36453202e-01 2.37589996e-01 2.51989390e-01\n",
      " 2.52368321e-01 2.54262978e-01 2.56536567e-01 2.56536567e-01\n",
      " 2.56915498e-01 2.56915498e-01 2.57294430e-01 2.58431224e-01\n",
      " 2.73967412e-01 2.74346343e-01 2.75104206e-01 2.75483138e-01\n",
      " 2.76619932e-01 2.77377795e-01 2.77756726e-01 2.78514589e-01\n",
      " 2.91019326e-01 2.92156120e-01 2.92913983e-01 2.93671845e-01\n",
      " 2.94050777e-01 2.95187571e-01 2.95566502e-01 2.95945434e-01\n",
      " 2.97082228e-01 3.12618416e-01 3.12997347e-01 3.14134142e-01\n",
      " 3.14892005e-01 3.16407730e-01 3.16407730e-01 3.16786662e-01\n",
      " 3.35354301e-01 3.36870027e-01 3.38385752e-01 3.41796135e-01\n",
      " 3.42175066e-01 3.42553998e-01 3.43311861e-01 3.43690792e-01\n",
      " 3.44448655e-01 3.44827586e-01 3.60742706e-01 3.61500568e-01\n",
      " 3.61879500e-01 3.61879500e-01 3.62637363e-01 3.63016294e-01\n",
      " 3.63774157e-01 3.66426677e-01 3.66805608e-01 3.67184540e-01\n",
      " 3.68700265e-01 3.69458128e-01 3.70215991e-01 3.86510042e-01\n",
      " 3.86510042e-01 3.86888973e-01 3.88404699e-01 3.88783630e-01\n",
      " 3.90299356e-01 3.90678287e-01 3.92194013e-01 3.93330807e-01\n",
      " 3.94088670e-01 3.95225464e-01 3.95604396e-01 4.15308829e-01\n",
      " 4.16066692e-01 4.16066692e-01 4.16445623e-01 4.16824555e-01\n",
      " 4.18340280e-01 4.19856006e-01 4.20234937e-01 4.20992800e-01\n",
      " 4.41076165e-01 4.41834028e-01 4.42591891e-01 4.43349754e-01\n",
      " 4.43728685e-01 4.46002274e-01 4.46381205e-01 4.47517999e-01\n",
      " 4.48275862e-01 4.71011747e-01 4.71769610e-01 4.72906404e-01\n",
      " 4.73285335e-01 4.75937855e-01 4.77832512e-01 4.98673740e-01\n",
      " 4.99810534e-01 5.00568397e-01 5.00947329e-01 5.00947329e-01\n",
      " 5.02463054e-01 5.04736643e-01 5.05115574e-01 5.05494505e-01\n",
      " 5.06252368e-01 5.28988253e-01 5.29367185e-01 5.30882910e-01\n",
      " 5.30882910e-01 5.32019704e-01 5.32398636e-01 5.34293293e-01\n",
      " 5.35051156e-01 5.35809019e-01 5.36566881e-01 5.65744600e-01\n",
      " 5.66123532e-01 5.66881394e-01 5.68018189e-01 5.68776052e-01\n",
      " 5.68776052e-01 5.71807503e-01 5.72944297e-01 5.96059113e-01\n",
      " 5.96438045e-01 5.97574839e-01 6.00606290e-01 6.00985222e-01\n",
      " 6.01743085e-01 6.02122016e-01 6.27510421e-01 6.27889352e-01\n",
      " 6.29026146e-01 6.29784009e-01 6.30541872e-01 6.30920803e-01\n",
      " 6.32057598e-01 6.33194392e-01 6.57824934e-01 6.58961728e-01\n",
      " 6.60477454e-01 6.60856385e-01 6.61614248e-01 6.63887836e-01\n",
      " 6.64645699e-01 6.89276241e-01 6.90413035e-01 6.91170898e-01\n",
      " 6.91549829e-01 6.93823418e-01 6.94960212e-01 6.95718075e-01\n",
      " 7.23001137e-01 7.23380068e-01 7.24516862e-01 7.24516862e-01\n",
      " 7.25274725e-01 7.26790451e-01 7.28306177e-01 7.29442971e-01\n",
      " 7.60515347e-01 7.60515347e-01 7.61273210e-01 7.62031072e-01\n",
      " 7.64683592e-01 7.66199318e-01 7.92724517e-01 7.93103448e-01\n",
      " 7.96134900e-01 7.97271694e-01 7.97271694e-01 7.97650625e-01\n",
      " 8.29480864e-01 8.30238727e-01 8.32512315e-01 8.32891247e-01\n",
      " 8.32891247e-01 8.33270178e-01 8.59795377e-01 8.60932171e-01\n",
      " 8.61690034e-01 8.62826828e-01 8.64342554e-01 8.96172793e-01\n",
      " 8.97309587e-01 8.98067450e-01 8.99204244e-01 8.99583175e-01\n",
      " 9.24592649e-01 9.24971580e-01 9.26487306e-01 9.26866237e-01\n",
      " 9.48086396e-01 9.49223191e-01 9.68169761e-01 9.69306556e-01\n",
      " 9.89010989e-01 9.89389920e-01 1.00000000e+00]\n",
      "----------------------------------------------------------------------------------------------------\n",
      "TPR:\n",
      "\n",
      " [0.         0.15070922 0.19858156 0.23049645 0.2322695  0.25177305\n",
      " 0.25265957 0.2641844  0.27836879 0.29343972 0.31028369 0.31117021\n",
      " 0.32180851 0.32269504 0.33599291 0.33687943 0.34751773 0.3608156\n",
      " 0.37588652 0.38741135 0.40425532 0.40602837 0.40868794 0.41400709\n",
      " 0.41578014 0.42287234 0.42641844 0.42907801 0.42996454 0.43617021\n",
      " 0.43705674 0.43705674 0.44946809 0.45124113 0.45744681 0.45921986\n",
      " 0.46719858 0.47695035 0.4787234  0.49556738 0.49734043 0.49911348\n",
      " 0.51507092 0.51595745 0.53457447 0.54343972 0.55319149 0.55319149\n",
      " 0.56117021 0.56294326 0.57624113 0.57890071 0.58953901 0.59042553\n",
      " 0.59751773 0.59751773 0.6072695  0.61613475 0.61613475 0.62411348\n",
      " 0.62588652 0.63031915 0.63120567 0.63120567 0.63297872 0.63829787\n",
      " 0.63829787 0.6391844  0.6391844  0.64007092 0.64184397 0.64184397\n",
      " 0.6427305  0.6427305  0.64450355 0.6462766  0.6462766  0.64804965\n",
      " 0.6498227  0.6498227  0.65070922 0.65070922 0.65159574 0.65159574\n",
      " 0.65248227 0.65425532 0.65425532 0.65514184 0.65514184 0.66046099\n",
      " 0.66046099 0.66134752 0.66312057 0.66400709 0.66400709 0.66489362\n",
      " 0.66578014 0.66578014 0.66666667 0.66755319 0.66843972 0.67109929\n",
      " 0.67198582 0.67287234 0.67553191 0.67641844 0.67641844 0.67730496\n",
      " 0.67730496 0.67907801 0.67907801 0.68085106 0.68085106 0.68173759\n",
      " 0.68173759 0.68262411 0.68705674 0.68705674 0.68705674 0.68882979\n",
      " 0.68971631 0.68971631 0.69060284 0.69060284 0.69148936 0.69237589\n",
      " 0.69237589 0.69503546 0.69503546 0.69592199 0.69592199 0.69769504\n",
      " 0.69946809 0.69946809 0.70212766 0.70390071 0.70478723 0.70656028\n",
      " 0.70656028 0.70656028 0.70656028 0.70656028 0.70656028 0.70744681\n",
      " 0.70921986 0.70921986 0.71010638 0.71010638 0.71276596 0.71276596\n",
      " 0.71276596 0.71453901 0.72251773 0.72340426 0.72340426 0.72340426\n",
      " 0.72340426 0.72429078 0.72429078 0.72429078 0.72429078 0.72960993\n",
      " 0.72960993 0.73049645 0.73049645 0.73049645 0.73049645 0.73670213\n",
      " 0.73670213 0.73670213 0.73670213 0.7393617  0.74024823 0.74024823\n",
      " 0.74113475 0.74113475 0.7429078  0.74734043 0.74734043 0.74734043\n",
      " 0.74734043 0.74734043 0.74734043 0.7535461  0.7535461  0.75443262\n",
      " 0.75443262 0.75443262 0.75797872 0.75886525 0.75886525 0.75975177\n",
      " 0.75975177 0.75975177 0.76507092 0.76507092 0.76595745 0.76595745\n",
      " 0.76684397 0.76684397 0.76684397 0.7677305  0.77925532 0.78014184\n",
      " 0.78014184 0.78014184 0.78014184 0.78368794 0.78368794 0.79787234\n",
      " 0.79875887 0.79875887 0.79964539 0.80053191 0.80053191 0.80053191\n",
      " 0.80053191 0.80762411 0.80762411 0.80762411 0.80762411 0.80939716\n",
      " 0.80939716 0.81471631 0.81560284 0.81560284 0.81737589 0.81826241\n",
      " 0.81826241 0.81914894 0.81914894 0.81914894 0.82801418 0.82801418\n",
      " 0.82801418 0.82801418 0.82801418 0.82801418 0.82890071 0.82890071\n",
      " 0.83421986 0.83421986 0.83510638 0.83510638 0.83510638 0.83776596\n",
      " 0.83776596 0.83865248 0.83865248 0.84308511 0.84308511 0.84308511\n",
      " 0.84308511 0.84485816 0.84574468 0.84663121 0.8501773  0.8501773\n",
      " 0.8501773  0.8501773  0.8501773  0.85106383 0.85195035 0.85195035\n",
      " 0.85195035 0.85195035 0.85904255 0.85904255 0.85992908 0.8608156\n",
      " 0.8608156  0.8608156  0.8608156  0.86170213 0.86347518 0.86347518\n",
      " 0.86347518 0.86347518 0.86347518 0.87765957 0.8785461  0.8785461\n",
      " 0.8785461  0.8785461  0.8785461  0.87943262 0.88031915 0.88031915\n",
      " 0.88031915 0.88120567 0.88120567 0.8856383  0.8856383  0.88652482\n",
      " 0.88741135 0.88741135 0.88741135 0.88741135 0.88741135 0.88741135\n",
      " 0.8927305  0.8927305  0.8927305  0.89361702 0.89361702 0.89450355\n",
      " 0.89450355 0.89450355 0.8962766  0.90425532 0.90425532 0.90425532\n",
      " 0.90425532 0.90514184 0.90514184 0.91223404 0.91223404 0.91223404\n",
      " 0.91223404 0.91312057 0.91400709 0.91489362 0.91489362 0.91578014\n",
      " 0.91578014 0.92464539 0.92464539 0.92464539 0.92553191 0.92553191\n",
      " 0.92553191 0.92641844 0.92641844 0.92641844 0.92641844 0.92907801\n",
      " 0.92907801 0.92907801 0.92907801 0.92996454 0.93085106 0.93085106\n",
      " 0.93085106 0.93351064 0.93351064 0.93351064 0.93351064 0.93351064\n",
      " 0.93351064 0.93351064 0.93971631 0.93971631 0.93971631 0.93971631\n",
      " 0.93971631 0.93971631 0.94060284 0.94060284 0.94858156 0.94858156\n",
      " 0.94858156 0.94946809 0.94946809 0.94946809 0.94946809 0.95921986\n",
      " 0.95921986 0.95921986 0.95921986 0.95921986 0.95921986 0.95921986\n",
      " 0.96631206 0.96631206 0.96631206 0.96719858 0.96719858 0.96808511\n",
      " 0.96808511 0.96808511 0.97163121 0.97340426 0.97340426 0.97340426\n",
      " 0.97429078 0.97429078 0.98049645 0.98049645 0.98049645 0.98049645\n",
      " 0.9822695  0.9822695  0.98492908 0.98492908 0.98492908 0.98492908\n",
      " 0.9858156  0.9858156  0.99202128 0.99202128 0.99202128 0.99202128\n",
      " 0.99202128 0.99468085 0.99468085 0.99468085 0.99468085 0.99468085\n",
      " 0.99556738 0.99556738 0.99556738 0.99556738 0.99734043 0.99734043\n",
      " 1.         1.         1.         1.         1.        ]\n"
     ]
    }
   ],
   "source": [
    "fpr, tpr, threshold = roc_curve(y_test, y_pred_prob)\n",
    "print(\"FPR:\\n\\n\", fpr)\n",
    "\n",
    "\n",
    "print(\"-\"*100)\n",
    "\n",
    "print(\"TPR:\\n\\n\", tpr)"
   ]
  },
  {
   "cell_type": "code",
   "execution_count": 91,
   "metadata": {},
   "outputs": [
    {
     "data": {
      "image/png": "[encoded data removed]",
      "text/plain": [
       "<Figure size 432x288 with 1 Axes>"
      ]
     },
     "metadata": {
      "needs_background": "light"
     },
     "output_type": "display_data"
    }
   ],
   "source": [
    "plt.plot([0, 1], [0, 1], \"k--\", label = '50% AUC')\n",
    "plt.plot(fpr, tpr, label = \"Random Forest\")\n",
    "plt.xlabel(\"FPR\")\n",
    "plt.ylabel(\"TPR\")\n",
    "plt.title(\"ROC Curve - Random Forest\")\n",
    "plt.show()"
   ]
  },
  {
   "cell_type": "code",
   "execution_count": 99,
   "metadata": {},
   "outputs": [
    {
     "data": {
      "text/plain": [
       "0.8810975036213481"
      ]
     },
     "execution_count": 99,
     "metadata": {},
     "output_type": "execute_result"
    }
   ],
   "source": [
    "\n",
    "roc_auc_score(y_test,y_pred_prob)"
   ]
  },
  {
   "cell_type": "code",
   "execution_count": 93,
   "metadata": {},
   "outputs": [
    {
     "name": "stdout",
     "output_type": "stream",
     "text": [
      "0.8798116095670403 0.007875719644030143\n"
     ]
    }
   ],
   "source": [
    "from sklearn.model_selection import cross_val_score\n",
    "accuracies = cross_val_score(estimator = classifier_forest, X = X_train, y = y_train, cv = 10)\n",
    "print(accuracies.mean(), accuracies.std())"
   ]
  },
  {
   "cell_type": "code",
   "execution_count": 94,
   "metadata": {},
   "outputs": [],
   "source": [
    "from sklearn.model_selection import GridSearchCV"
   ]
  },
  {
   "cell_type": "code",
   "execution_count": 95,
   "metadata": {},
   "outputs": [],
   "source": [
    "parameters = {\n",
    "    'n_estimators': [25, 50, 200, 300],\n",
    "    'criterion': ['gini', 'entropy'],\n",
    "    'max_depth': [14, 20, 25, 30]\n",
    "}"
   ]
  },
  {
   "cell_type": "code",
   "execution_count": 97,
   "metadata": {},
   "outputs": [
    {
     "name": "stdout",
     "output_type": "stream",
     "text": [
      "best_accuracy =  0.8809401191958554\n",
      "best_parameters =  {'criterion': 'entropy', 'max_depth': 30, 'n_estimators': 300}\n"
     ]
    }
   ],
   "source": [
    "grid_search = GridSearchCV(estimator = classifier_forest,\n",
    "                          param_grid = parameters,\n",
    "                          scoring = 'accuracy',\n",
    "                          cv = 10,\n",
    "                          n_jobs = -1)\n",
    "grid_search = grid_search.fit(X_train, y_train)\n",
    "print('best_accuracy = ',grid_search.best_score_)\n",
    "print('best_parameters = ', grid_search.best_params_)"
   ]
  },
  {
   "cell_type": "code",
   "execution_count": 98,
   "metadata": {},
   "outputs": [
    {
     "data": {
      "text/plain": [
       "array([[2572,   67],\n",
       "       [ 389,  739]], dtype=int64)"
      ]
     },
     "execution_count": 98,
     "metadata": {},
     "output_type": "execute_result"
    }
   ],
   "source": [
    "classifier_forest = RandomForestClassifier(criterion = 'gini', max_depth = 25, n_estimators = 200, random_state = 0)\n",
    "classifier_forest.fit(X_train, y_train)\n",
    "y_pred = classifier_forest.predict(X_test)\n",
    "\n",
    "cm = confusion_matrix(y_test, y_pred)\n",
    "cm"
   ]
  },
  {
   "cell_type": "code",
   "execution_count": 100,
   "metadata": {},
   "outputs": [
    {
     "name": "stdout",
     "output_type": "stream",
     "text": [
      "              precision    recall  f1-score   support\n",
      "\n",
      "           0       0.87      0.97      0.92      2639\n",
      "           1       0.92      0.66      0.76      1128\n",
      "\n",
      "    accuracy                           0.88      3767\n",
      "   macro avg       0.89      0.81      0.84      3767\n",
      "weighted avg       0.88      0.88      0.87      3767\n",
      "\n"
     ]
    }
   ],
   "source": [
    "print(classification_report(y_test, y_pred))\n"
   ]
  },
  {
   "cell_type": "code",
   "execution_count": 101,
   "metadata": {},
   "outputs": [],
   "source": [
    "filename = 'songspopularity.pkl'\n",
    "pickle.dump(classifier_forest, open(filename, 'wb'))"
   ]
  },
  {
   "cell_type": "code",
   "execution_count": 103,
   "metadata": {},
   "outputs": [],
   "source": [
    "y_pred = classifier_forest.predict(X_test)"
   ]
  },
  {
   "cell_type": "code",
   "execution_count": 104,
   "metadata": {},
   "outputs": [
    {
     "data": {
      "text/plain": [
       "array([[2572,   67],\n",
       "       [ 389,  739]], dtype=int64)"
      ]
     },
     "execution_count": 104,
     "metadata": {},
     "output_type": "execute_result"
    }
   ],
   "source": [
    "confusion_matrix(y_test, y_pred)"
   ]
  },
  {
   "cell_type": "code",
   "execution_count": null,
   "metadata": {},
   "outputs": [],
   "source": []
  }
 ],
 "metadata": {
  "kernelspec": {
   "display_name": "Python 3",
   "language": "python",
   "name": "python3"
  },
  "language_info": {
   "codemirror_mode": {
    "name": "ipython",
    "version": 3
   },
   "file_extension": ".py",
   "mimetype": "text/x-python",
   "name": "python",
   "nbconvert_exporter": "python",
   "pygments_lexer": "ipython3",
   "version": "3.8.5"
  }
 },
 "nbformat": 4,
 "nbformat_minor": 4
}
